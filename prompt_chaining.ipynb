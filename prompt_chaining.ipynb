{
 "cells": [
  {
   "cell_type": "code",
   "execution_count": 1,
   "id": "7baf29c1",
   "metadata": {},
   "outputs": [],
   "source": [
    "from langgraph.graph import StateGraph, START, END\n",
    "from langchain_google_genai import ChatGoogleGenerativeAI\n",
    "from typing import TypedDict\n",
    "from dotenv import load_dotenv\n",
    "import os"
   ]
  },
  {
   "cell_type": "code",
   "execution_count": null,
   "id": "87ee79b1",
   "metadata": {},
   "outputs": [],
   "source": [
    "load_dotenv()\n",
    "model = ChatGoogleGenerativeAI(model=\"gemini-2.5-flash\",google_api_key=\"GOOGLE_API_KEY\")"
   ]
  },
  {
   "cell_type": "code",
   "execution_count": 9,
   "id": "6454fa2a",
   "metadata": {},
   "outputs": [],
   "source": [
    "#state\n",
    "class LLMState(TypedDict):\n",
    "    title: str\n",
    "    blog : str\n",
    "    outline: str\n",
    "\n",
    "\n",
    "#node\n",
    "def generate_outline(state: LLMState) -> LLMState:\n",
    "    #take query\n",
    "    title = state['title']\n",
    "    #prompt\n",
    "    prompt = f\"Generate a outline for a blog on this title {title}\"\n",
    "    #llm call\n",
    "    response = model.invoke(prompt).content\n",
    "    #update state\n",
    "    state['outline'] = response\n",
    "    return state\n",
    "\n",
    "def generate_blog(state: LLMState) ->LLMState:\n",
    "    #take outline\n",
    "    outline = state['outline']\n",
    "    title = state['title']\n",
    "    #prompt\n",
    "    prompt = f\"Write a blog in 200 words in the following outline {outline} on title {title}\"\n",
    "    #invoke model\n",
    "    response = model.invoke(prompt).content\n",
    "    state['blog'] = response\n",
    "    #update state\n",
    "    return state\n",
    "#edges\n",
    "\n",
    "#compile\n",
    "\n",
    "#invoke"
   ]
  },
  {
   "cell_type": "code",
   "execution_count": 12,
   "id": "dd88000e",
   "metadata": {},
   "outputs": [],
   "source": [
    "graph = StateGraph(LLMState)\n",
    "\n",
    "graph.add_node(\"generate_outline\",generate_outline)\n",
    "graph.add_node(\"generate_blog\",generate_blog)\n",
    "\n",
    "graph.add_edge(START,\"generate_outline\")\n",
    "graph.add_edge(\"generate_outline\",\"generate_blog\")\n",
    "graph.add_edge(\"generate_blog\",END)\n",
    "\n",
    "#compile\n",
    "\n",
    "workflow = graph.compile()"
   ]
  },
  {
   "cell_type": "code",
   "execution_count": 13,
   "id": "37a0b667",
   "metadata": {},
   "outputs": [],
   "source": [
    "prompt_input = {\"title\" : \"AWS\"}"
   ]
  },
  {
   "cell_type": "code",
   "execution_count": 14,
   "id": "77fddd79",
   "metadata": {},
   "outputs": [
    {
     "data": {
      "text/plain": [
       "{'title': 'AWS',\n",
       " 'blog': 'Here\\'s a blog post about AWS, precisely 199 words, following your outline:\\n\\n## AWS Explained: Your Essential Guide to Amazon Web Services\\n\\nThe cloud has revolutionized technology, and at its heart is **Amazon Web Services (AWS)**. This comprehensive, on-demand cloud computing platform offers global services on a pay-as-you-go model. This guide introduces AWS, demystifying its core.\\n\\n**What Exactly is AWS?**\\nAWS provides computing resources over the internet, replacing costly on-premise IT. Its global infrastructure ensures reliability and scalability. The \"pay-as-you-go\" model means you only pay for what you use, for cost-efficiency.\\n\\n**Why Choose AWS?**\\nBusinesses choose AWS for rapid **scalability**, cost-effectiveness (eliminating hardware), and robust **reliability** and **security**. It also drives **agility** and **innovation** through its vast service portfolio.\\n\\n**A Glimpse into Key AWS Services**\\nKey AWS services include **Amazon EC2** (virtual servers), **AWS Lambda** (serverless compute), **Amazon S3** (object storage), and databases like **Amazon RDS** (managed relational), **DynamoDB** (NoSQL).\\n\\n**Getting Started & Conclusion**\\nFrom startups to enterprises, AWS is indispensable. Explore it with the **AWS Free Tier**. Create an account, navigate the console, and start building. AWS is the future of digital infrastructure – start your cloud journey!',\n",
       " 'outline': 'Okay, here\\'s a comprehensive outline for a blog post about \"AWS,\" assuming the goal is to provide a solid introduction and overview for someone new or relatively new to the platform.\\n\\n---\\n\\n## Blog Title Options:\\n\\n*   **AWS Explained: Your Essential Guide to Amazon Web Services**\\n*   **Unlocking the Cloud: A Beginner\\'s Introduction to AWS**\\n*   **What is AWS? Diving into Amazon Web Services**\\n*   **Beyond the Basics: Everything You Need to Know About AWS**\\n\\n---\\n\\n## Blog Post Outline: AWS\\n\\n### I. Introduction\\n\\n*   **A. Hook: The Pervasive Power of the Cloud**\\n    *   Briefly mention how cloud computing has revolutionized technology and business.\\n    *   Highlight AWS\\'s dominant role in this revolution.\\n*   **B. What is AWS? (A Quick Definition)**\\n    *   Full name: Amazon Web Services.\\n    *   Define it as a comprehensive, on-demand cloud computing platform.\\n    *   Mention its global infrastructure and pay-as-you-go model.\\n*   **C. Why This Blog Post?**\\n    *   Set expectations: This guide will demystify AWS, cover its core concepts, key services, and benefits.\\n    *   Target audience: Beginners, business leaders, developers curious about AWS.\\n\\n### II. What Exactly is Amazon Web Services (AWS)?\\n\\n*   **A. The Core Concept: Cloud Computing**\\n    *   Briefly explain what cloud computing means (renting computing resources over the internet).\\n    *   Distinguish from traditional on-premise IT.\\n*   **B. AWS as a Global Utility**\\n    *   Massive global infrastructure (Regions and Availability Zones).\\n    *   Reliability, scalability, and high availability built-in.\\n*   **C. The \"Pay-as-You-Go\" Model**\\n    *   Explain the cost-efficiency: only pay for what you use.\\n    *   No upfront capital expenditure on hardware.\\n\\n### III. Why Choose AWS? Key Benefits and Advantages\\n\\n*   **A. Scalability & Elasticity**\\n    *   Scale resources up or down rapidly based on demand.\\n    *   Handle traffic spikes without over-provisioning.\\n*   **B. Cost-Effectiveness**\\n    *   Eliminate capital expenses (servers, data centers).\\n    *   Optimize operational costs with flexible pricing.\\n    *   AWS Free Tier for experimentation.\\n*   **C. Reliability & Performance**\\n    *   Redundant infrastructure across multiple data centers.\\n    *   High uptime guarantees (SLAs).\\n    *   Global reach for low-latency access.\\n*   **D. Security**\\n    *   AWS\\'s \"shared responsibility model\" (AWS secures the cloud, you secure in the cloud).\\n    *   Extensive security services and compliance certifications.\\n    *   Dedicated security experts.\\n*   **E. Agility & Innovation**\\n    *   Rapid deployment of new applications and services.\\n    *   Access to cutting-edge technologies (AI/ML, IoT, serverless).\\n    *   Focus on innovation instead of infrastructure management.\\n*   **F. Comprehensive Service Portfolio**\\n    *   Thousands of services for virtually any use case.\\n    *   Deep integration between services.\\n\\n### IV. A Glimpse into Key AWS Services (The Building Blocks)\\n\\n*   **A. Compute Power**\\n    *   **Amazon EC2 (Elastic Compute Cloud):** Virtual servers in the cloud (the workhorse).\\n    *   **AWS Lambda:** Serverless computing (run code without managing servers).\\n    *   **Amazon ECS/EKS:** Container orchestration (Docker, Kubernetes).\\n*   **B. Storage Solutions**\\n    *   **Amazon S3 (Simple Storage Service):** Object storage for virtually unlimited data.\\n    *   **Amazon EBS (Elastic Block Store):** Block storage for EC2 instances.\\n    *   **Amazon Glacier:** Archival storage for long-term, low-cost data.\\n*   **C. Databases**\\n    *   **Amazon RDS (Relational Database Service):** Managed relational databases (MySQL, PostgreSQL, SQL Server, etc.).\\n    *   **Amazon DynamoDB:** Fast, flexible NoSQL database service.\\n    *   **Amazon Aurora:** High-performance, MySQL/PostgreSQL-compatible relational database.\\n*   **D. Networking & Content Delivery**\\n    *   **Amazon VPC (Virtual Private Cloud):** Isolate your resources in a virtual network.\\n    *   **Amazon Route 53:** Scalable Domain Name System (DNS) web service.\\n    *   **Amazon CloudFront:** Content Delivery Network (CDN) for fast content delivery.\\n*   **E. Security, Identity, & Compliance**\\n    *   **AWS IAM (Identity and Access Management):** Manage user access and permissions.\\n    *   **AWS WAF:** Web Application Firewall.\\n    *   **AWS Shield:** DDoS protection.\\n*   **F. Management & Governance**\\n    *   **Amazon CloudWatch:** Monitoring and observability.\\n    *   **AWS CloudFormation:** Infrastructure as Code.\\n    *   **AWS Organizations:** Centralized management for multiple AWS accounts.\\n\\n### V. Who Uses AWS? Real-World Applications\\n\\n*   **A. Startups & Small Businesses:** Rapid growth, low initial investment.\\n*   **B. Enterprises:** Digital transformation, global reach (e.g., Netflix, Airbnb, Capital One).\\n*   **C. Government & Non-Profits:** Cost-efficiency, security, specialized solutions.\\n*   **D. Developers & IT Professionals:** Building, deploying, and managing applications.\\n*   **E. Data Scientists & AI/ML Engineers:** Access to powerful computing and specialized services.\\n\\n### VI. Getting Started with AWS\\n\\n*   **A. The AWS Free Tier:** Explore services without cost.\\n*   **B. Creating an AWS Account:** Step-by-step guide.\\n*   **C. Navigating the AWS Management Console:** An overview of the dashboard.\\n*   **D. First Steps: Launching an EC2 Instance or Storing on S3.** (Suggest a simple, practical example).\\n*   **E. Learning Resources:** Documentation, tutorials, AWS training, certifications.\\n\\n### VII. The Future of Cloud and AWS\\'s Role\\n\\n*   **A. Continued Innovation:** AI/ML, IoT, Edge Computing, Serverless.\\n*   **B. Sustainability:** AWS\\'s commitment to renewable energy.\\n*   **C. Hybrid & Multi-Cloud Strategies:** How AWS integrates with on-premise and other clouds.\\n\\n### VIII. Conclusion\\n\\n*   **A. Recap:** Summarize the key benefits and the vast ecosystem of AWS.\\n*   **B. Final Thought:** Reinforce AWS\\'s position as a foundational technology for the modern digital world.\\n*   **C. Call to Action:**\\n    *   Encourage readers to explore the AWS Free Tier.\\n    *   Suggest further reading or resources.\\n    *   Invite comments and questions.\\n\\n---'}"
      ]
     },
     "execution_count": 14,
     "metadata": {},
     "output_type": "execute_result"
    }
   ],
   "source": [
    "response = workflow.invoke(prompt_input)"
   ]
  }
 ],
 "metadata": {
  "kernelspec": {
   "display_name": "venv (3.9.5)",
   "language": "python",
   "name": "python3"
  },
  "language_info": {
   "codemirror_mode": {
    "name": "ipython",
    "version": 3
   },
   "file_extension": ".py",
   "mimetype": "text/x-python",
   "name": "python",
   "nbconvert_exporter": "python",
   "pygments_lexer": "ipython3",
   "version": "3.9.5"
  }
 },
 "nbformat": 4,
 "nbformat_minor": 5
}
