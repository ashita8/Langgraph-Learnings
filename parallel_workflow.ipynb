{
 "cells": [
  {
   "cell_type": "code",
   "execution_count": 1,
   "id": "38f1cc85",
   "metadata": {},
   "outputs": [],
   "source": [
    "from langgraph.graph import StateGraph, START, END\n",
    "from langchain_google_genai import ChatGoogleGenerativeAI\n",
    "from typing import TypedDict, Annotated\n",
    "from pydantic import BaseModel, Field\n",
    "from dotenv import load_dotenv \n",
    "import os\n",
    "import operator\n"
   ]
  },
  {
   "cell_type": "code",
   "execution_count": 2,
   "id": "fdc1e3fa",
   "metadata": {},
   "outputs": [
    {
     "data": {
      "text/plain": [
       "True"
      ]
     },
     "execution_count": 2,
     "metadata": {},
     "output_type": "execute_result"
    }
   ],
   "source": [
    "load_dotenv()"
   ]
  },
  {
   "cell_type": "code",
   "execution_count": 3,
   "id": "5b2fb7f7",
   "metadata": {},
   "outputs": [],
   "source": [
    "model = ChatGoogleGenerativeAI(model=\"gemini-2.5-flash\",google_api_key=os.getenv(\"GOOGLE_API_KEY\"))"
   ]
  },
  {
   "cell_type": "code",
   "execution_count": 4,
   "id": "cd30e912",
   "metadata": {},
   "outputs": [],
   "source": [
    "class EvaluationSchema(BaseModel):\n",
    "    feedback :str =  Field(description=\"This is the feedback\")\n",
    "    score : int = Field(description=\"This is the score range between (0-10)\")"
   ]
  },
  {
   "cell_type": "code",
   "execution_count": 5,
   "id": "864249a0",
   "metadata": {},
   "outputs": [],
   "source": [
    "structured_output = model.with_structured_output(EvaluationSchema)"
   ]
  },
  {
   "cell_type": "code",
   "execution_count": 14,
   "id": "d969152e",
   "metadata": {},
   "outputs": [],
   "source": [
    "essay = \"\"\"Learning is a lifelong journey fueled by curiosity, discipline, and purpose. Whether pursuing advanced skills in Python, system design, or machine learning, each small achievement builds confidence and expertise. Sometimes, the process feels slow or filled with setbacks, but consistent effort turns challenges into stepping stones. While aiming for career growth, it is important to celebrate progress, connect with mentors, and embrace new ideas. Networking, sharing knowledge, and asking questions all contribute to a richer experience. Ultimately, progress comes not just from books or courses, but from genuine engagement with real projects and the evolving world around us.\"\"\""
   ]
  },
  {
   "cell_type": "code",
   "execution_count": 37,
   "id": "7d4d177b",
   "metadata": {},
   "outputs": [],
   "source": [
    "prompt = f'Give feedback and score it according to this essay {essay}'"
   ]
  },
  {
   "cell_type": "code",
   "execution_count": 38,
   "id": "5ff97f47",
   "metadata": {},
   "outputs": [],
   "source": [
    "op = structured_output.invoke(prompt)"
   ]
  },
  {
   "cell_type": "code",
   "execution_count": 28,
   "id": "aa60b39e",
   "metadata": {},
   "outputs": [
    {
     "data": {
      "text/plain": [
       "EvaluationSchema(feedback='This essay provides an insightful and well-articulated perspective on lifelong learning and career development. It effectively highlights the importance of curiosity, discipline, and practical engagement, while also acknowledging potential setbacks and the value of mentorship and networking. The language is encouraging and the advice is practical.', score=9)"
      ]
     },
     "execution_count": 28,
     "metadata": {},
     "output_type": "execute_result"
    }
   ],
   "source": [
    "op"
   ]
  },
  {
   "cell_type": "code",
   "execution_count": 28,
   "id": "2d6f5052",
   "metadata": {},
   "outputs": [],
   "source": [
    "class LLMSate(TypedDict):\n",
    "    essay : str\n",
    "    cot_feedback : str\n",
    "    doa_feedback: str\n",
    "    language_feedback: str\n",
    "    individual_score : Annotated[list[int], operator.add]\n",
    "    overall_feedback: str\n",
    "    final_score : float"
   ]
  },
  {
   "cell_type": "code",
   "execution_count": 33,
   "id": "fadbb217",
   "metadata": {},
   "outputs": [],
   "source": [
    "def cot(state: LLMSate):\n",
    "    #essay input\n",
    "    essay = state['essay']\n",
    "    #structured prompt\n",
    "    prompt = f'Give feedback and score it according clarity of this essay {essay}'\n",
    "    #invoke\n",
    "    response = structured_output.invoke(prompt)\n",
    "    cot_feedback = response.feedback\n",
    "    cot_score = response.score\n",
    "    return {\"cot_feedback\": cot_feedback, \"individual_score\": [response.score]}\n",
    "\n",
    "\n",
    "def doa(state: LLMSate):\n",
    "    essay = state[\"essay\"]\n",
    "\n",
    "    prompt = f'Give feedback and score it according depth of this essay {essay}'\n",
    "    response = structured_output.invoke(prompt)\n",
    "    doa_feedback = response.feedback\n",
    "    doa_score = response.score\n",
    "    return {\"doa_feedback\": doa_feedback, \"individual_score\": [response.score]}\n",
    "\n",
    "def language(state: LLMSate):\n",
    "    essay = state[\"essay\"]\n",
    "\n",
    "    prompt = f'Give feedback and score it according language and grammar of this essay {essay}'\n",
    "    response = structured_output.invoke(prompt)\n",
    "    language_feedback = response.feedback\n",
    "    language_score = response.score\n",
    "\n",
    "    return {\"language_feedback\": language_feedback, \"individual_score\": [response.score]}\n",
    "\n",
    "def Final_eval(state: LLMSate):\n",
    "    summary = f\"generate a summarized feedback based on these three feedbacks \\n {state['cot_feedback'] , state['doa_feedback'], state['language_feedback']}.\"\n",
    "    response = model.invoke(summary).content\n",
    "    avg_score = sum(state[\"individual_score\"])/len(state[\"individual_score\"])\n",
    "    return {\"overall_feedback\": response, \"overall_feedback\": avg_score}\n",
    "\n"
   ]
  },
  {
   "cell_type": "code",
   "execution_count": 34,
   "id": "2336ceb4",
   "metadata": {},
   "outputs": [],
   "source": [
    "#graph\n",
    "graph = StateGraph(LLMSate)\n",
    "#node\n",
    "graph.add_node(\"cot\",cot)\n",
    "graph.add_node(\"doa\",doa)\n",
    "graph.add_node(\"language\",language)\n",
    "graph.add_node(\"Final_eval\",Final_eval)\n",
    "\n",
    "\n",
    "#edges\n",
    "graph.add_edge(START,\"cot\")\n",
    "graph.add_edge(START,\"doa\")\n",
    "graph.add_edge(START,\"language\")\n",
    "graph.add_edge(\"cot\",\"Final_eval\")\n",
    "graph.add_edge(\"doa\",\"Final_eval\")\n",
    "graph.add_edge(\"language\",\"Final_eval\")\n",
    "graph.add_edge(\"Final_eval\",END)\n",
    "\n",
    "workflow = graph.compile()"
   ]
  },
  {
   "cell_type": "code",
   "execution_count": 35,
   "id": "a8a472bf",
   "metadata": {},
   "outputs": [
    {
     "data": {
      "image/png": "[encoded data removed]",
      "text/plain": [
       "<langgraph.graph.state.CompiledStateGraph object at 0x000001AE4D462160>"
      ]
     },
     "execution_count": 35,
     "metadata": {},
     "output_type": "execute_result"
    }
   ],
   "source": [
    "workflow"
   ]
  },
  {
   "cell_type": "code",
   "execution_count": 36,
   "id": "f3a843b5",
   "metadata": {},
   "outputs": [
    {
     "data": {
      "text/plain": [
       "{'essay': 'Learning is a lifelong journey fueled by curiosity, discipline, and purpose. Whether pursuing advanced skills in Python, system design, or machine learning, each small achievement builds confidence and expertise. Sometimes, the process feels slow or filled with setbacks, but consistent effort turns challenges into stepping stones. While aiming for career growth, it is important to celebrate progress, connect with mentors, and embrace new ideas. Networking, sharing knowledge, and asking questions all contribute to a richer experience. Ultimately, progress comes not just from books or courses, but from genuine engagement with real projects and the evolving world around us.',\n",
       " 'cot_feedback': 'The essay demonstrates excellent clarity. The ideas are presented in a straightforward and coherent manner, making it very easy to understand the core message about lifelong learning and continuous improvement. The language is precise, and the flow of thought is logical, ensuring that the reader can follow the arguments without any difficulty.',\n",
       " 'doa_feedback': \"The essay provides a well-articulated and positive perspective on lifelong learning, touching on key elements like curiosity, discipline, the value of consistent effort, mentorship, and engagement with real-world projects. It serves as a good motivational piece. However, to truly enhance its depth, the essay could benefit from more specific examples or a deeper exploration of the 'how' behind these principles. For instance, detailing specific challenges encountered or unique strategies for maintaining discipline or finding mentors would add more analytical insight and substance to the discussion.\",\n",
       " 'language_feedback': 'The essay demonstrates excellent command of language and grammar. It is well-structured, easy to read, and conveys its message effectively with no noticeable errors. The vocabulary is appropriate, and sentence structures are varied and correct.',\n",
       " 'individual_score': [9, 7, 10],\n",
       " 'overall_feedback': 8.666666666666666}"
      ]
     },
     "execution_count": 36,
     "metadata": {},
     "output_type": "execute_result"
    }
   ],
   "source": [
    "workflow.invoke({\"essay\":essay})"
   ]
  },
  {
   "cell_type": "code",
   "execution_count": null,
   "id": "d1e222e0",
   "metadata": {},
   "outputs": [],
   "source": []
  }
 ],
 "metadata": {
  "kernelspec": {
   "display_name": "venv (3.9.5)",
   "language": "python",
   "name": "python3"
  },
  "language_info": {
   "codemirror_mode": {
    "name": "ipython",
    "version": 3
   },
   "file_extension": ".py",
   "mimetype": "text/x-python",
   "name": "python",
   "nbconvert_exporter": "python",
   "pygments_lexer": "ipython3",
   "version": "3.9.5"
  }
 },
 "nbformat": 4,
 "nbformat_minor": 5
}
